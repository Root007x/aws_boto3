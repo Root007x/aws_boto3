{
 "cells": [
  {
   "cell_type": "markdown",
   "id": "5699bdad",
   "metadata": {},
   "source": [
    "### Create key-pair for secure connection"
   ]
  },
  {
   "cell_type": "code",
   "execution_count": 1,
   "id": "2eef5163",
   "metadata": {},
   "outputs": [],
   "source": [
    "import boto3"
   ]
  },
  {
   "cell_type": "code",
   "execution_count": null,
   "id": "023ef101",
   "metadata": {},
   "outputs": [],
   "source": [
    "ec2 = boto3.client('ec2', region_name = \"us-east-2\")\n",
    "\n",
    "ec2.describe_instances()\n",
    "\n",
    "response = ec2.create_key_pair(KeyName = \"\")\n",
    "response"
   ]
  },
  {
   "cell_type": "code",
   "execution_count": null,
   "id": "a85ca469",
   "metadata": {},
   "outputs": [],
   "source": [
    "# Save pem file\n",
    "file = open('', \"w\")\n",
    "file.write(response[\"KeyMaterial\"])\n",
    "file.close()"
   ]
  },
  {
   "cell_type": "markdown",
   "id": "e3b4415d",
   "metadata": {},
   "source": [
    "### Create an Amazon EC2 instance"
   ]
  },
  {
   "cell_type": "code",
   "execution_count": null,
   "id": "7949a7d9",
   "metadata": {},
   "outputs": [],
   "source": [
    "ec2.describe_instances()"
   ]
  },
  {
   "cell_type": "code",
   "execution_count": null,
   "id": "f8dcedd2",
   "metadata": {},
   "outputs": [],
   "source": [
    "res = ec2.run_instances(\n",
    "    ImageId = \"\",\n",
    "    MinCount = 1, # number of instances\n",
    "    MaxCount = 1,\n",
    "    InstanceType = \"t2.micro\",\n",
    "    KeyName = \"\",\n",
    "    BlockDeviceMappings = [ # elastic block store\n",
    "        {\n",
    "            \"DeviceName\": \"/dev/xvda\",\n",
    "            \"Ebs\":{\n",
    "                \"DeleteOnTermination\": True,\n",
    "                \"VolumeSize\": 20\n",
    "\n",
    "            }\n",
    "        }\n",
    "    ],\n",
    "    TagSpecifications = [\n",
    "        {\n",
    "            \"ResourceType\": \"instance\",\n",
    "            \"Tags\":[\n",
    "                {\n",
    "                    \"Key\": \"Name\",\n",
    "                    \"Value\": \"\" # name of the instance\n",
    "                }\n",
    "            ]\n",
    "        }\n",
    "    ]\n",
    ")"
   ]
  },
  {
   "cell_type": "code",
   "execution_count": null,
   "id": "fdc05477",
   "metadata": {},
   "outputs": [],
   "source": [
    "res"
   ]
  },
  {
   "cell_type": "code",
   "execution_count": null,
   "id": "9454e25b",
   "metadata": {},
   "outputs": [],
   "source": [
    "ec2.describe_instances()"
   ]
  },
  {
   "cell_type": "markdown",
   "id": "abb29bd5",
   "metadata": {},
   "source": [
    "### Create Custome security Group"
   ]
  },
  {
   "cell_type": "code",
   "execution_count": null,
   "id": "f7697d3f",
   "metadata": {},
   "outputs": [],
   "source": [
    "res = ec2.describe_security_groups()\n",
    "res = ec2.create_security_group(\n",
    "    GroupName = \"\",\n",
    "    Description = \"Security Group For testing\"\n",
    ")"
   ]
  },
  {
   "cell_type": "code",
   "execution_count": 13,
   "id": "eb770b7f",
   "metadata": {},
   "outputs": [],
   "source": [
    "security_group_id = res[\"GroupId\"]"
   ]
  },
  {
   "cell_type": "code",
   "execution_count": null,
   "id": "6f078dc6",
   "metadata": {},
   "outputs": [],
   "source": [
    "security_group_id"
   ]
  },
  {
   "cell_type": "code",
   "execution_count": 16,
   "id": "1d458988",
   "metadata": {},
   "outputs": [],
   "source": [
    "## Add inbound rules (ip, port, traffic type)\n",
    "res = ec2.authorize_security_group_ingress(\n",
    "    GroupId = security_group_id,\n",
    "    IpPermissions = [\n",
    "        {\n",
    "            \"IpProtocol\": \"tcp\",\n",
    "            \"FromPort\": 22,\n",
    "            \"ToPort\" : 22,\n",
    "            \"IpRanges\":[{\"CidrIp\": \"0.0.0.0/0\"}]\n",
    "        }\n",
    "    ]\n",
    ")\n"
   ]
  },
  {
   "cell_type": "code",
   "execution_count": null,
   "id": "ca4977e7",
   "metadata": {},
   "outputs": [],
   "source": [
    "res"
   ]
  },
  {
   "cell_type": "code",
   "execution_count": 25,
   "id": "4c655194",
   "metadata": {},
   "outputs": [],
   "source": [
    "res = ec2.describe_instances()\n",
    "\n",
    "instance_id = res[\"Reservations\"][0][\"Instances\"][0][\"InstanceId\"]"
   ]
  },
  {
   "cell_type": "code",
   "execution_count": 31,
   "id": "e40cd489",
   "metadata": {},
   "outputs": [],
   "source": [
    "old_grp_id = res[\"Reservations\"][0][\"Instances\"][0][\"SecurityGroups\"][0][\"GroupId\"]"
   ]
  },
  {
   "cell_type": "code",
   "execution_count": null,
   "id": "f27eed6f",
   "metadata": {},
   "outputs": [],
   "source": [
    "## Add custom security group\n",
    "ec2.modify_instance_attribute(\n",
    "    InstanceId = instance_id,\n",
    "    Groups = [security_group_id] # to add multiple just use , and add\n",
    "\n",
    ")"
   ]
  },
  {
   "cell_type": "markdown",
   "id": "fd6dfc07",
   "metadata": {},
   "source": [
    "### Start, Stop and Delete EC2 instance"
   ]
  },
  {
   "cell_type": "code",
   "execution_count": 39,
   "id": "37769f08",
   "metadata": {},
   "outputs": [],
   "source": [
    "import time\n",
    "\n",
    "# check instance status\n",
    "def wait_for_status(instance_id, target_status):\n",
    "    while True:\n",
    "        res = ec2.describe_instances(InstanceIds = [instance_id])\n",
    "\n",
    "        status = res[\"Reservations\"][0][\"Instances\"][0][\"State\"][\"Name\"]\n",
    "\n",
    "        if status == target_status:\n",
    "            print(f\"Instance is in {target_status} state\")\n",
    "            break\n",
    "\n",
    "        time.sleep(10)"
   ]
  },
  {
   "cell_type": "code",
   "execution_count": null,
   "id": "8b05c5ca",
   "metadata": {},
   "outputs": [],
   "source": [
    "# Start instance\n",
    "def start_instances(instance_id):\n",
    "    print(\"EC2 Instance Start\")\n",
    "    ec2.start_instances(InstanceIds = [instance_id])\n",
    "\n",
    "    wait_for_status(instance_id, 'running')"
   ]
  },
  {
   "cell_type": "code",
   "execution_count": 41,
   "id": "6ed6d254",
   "metadata": {},
   "outputs": [
    {
     "name": "stdout",
     "output_type": "stream",
     "text": [
      "EC2 Instance Start\n",
      "Instance is in running state\n"
     ]
    }
   ],
   "source": [
    "start_instances(instance_id)"
   ]
  },
  {
   "cell_type": "code",
   "execution_count": null,
   "id": "c0e08d78",
   "metadata": {},
   "outputs": [],
   "source": [
    "# Stop instance\n",
    "def stop_instances(instance_id):\n",
    "    print(\"EC2 Instance Stop\")\n",
    "    ec2.stop_instances(InstanceIds = [instance_id])\n",
    "\n",
    "    wait_for_status(instance_id, 'stopped')"
   ]
  },
  {
   "cell_type": "code",
   "execution_count": 43,
   "id": "fdcb1d52",
   "metadata": {},
   "outputs": [
    {
     "name": "stdout",
     "output_type": "stream",
     "text": [
      "EC2 Instance Start\n",
      "Instance is in stopped state\n"
     ]
    }
   ],
   "source": [
    "stop_instances(instance_id)"
   ]
  },
  {
   "cell_type": "code",
   "execution_count": 48,
   "id": "75de4631",
   "metadata": {},
   "outputs": [],
   "source": [
    "# Tarminate instance\n",
    "def terminate_instances(instance_id):\n",
    "    print(\"EC2 Instance Termination\")\n",
    "    ec2.terminate_instances(InstanceIds = [instance_id])\n",
    "\n",
    "    wait_for_status(instance_id, 'terminated')\n"
   ]
  },
  {
   "cell_type": "code",
   "execution_count": 49,
   "id": "537bbdd2",
   "metadata": {},
   "outputs": [
    {
     "name": "stdout",
     "output_type": "stream",
     "text": [
      "EC2 Instance Termination\n",
      "Instance is in terminated state\n"
     ]
    }
   ],
   "source": [
    "terminate_instances(instance_id)"
   ]
  },
  {
   "cell_type": "code",
   "execution_count": null,
   "id": "7c78a3d0",
   "metadata": {},
   "outputs": [],
   "source": []
  }
 ],
 "metadata": {
  "kernelspec": {
   "display_name": "Python 3",
   "language": "python",
   "name": "python3"
  },
  "language_info": {
   "codemirror_mode": {
    "name": "ipython",
    "version": 3
   },
   "file_extension": ".py",
   "mimetype": "text/x-python",
   "name": "python",
   "nbconvert_exporter": "python",
   "pygments_lexer": "ipython3",
   "version": "3.10.18"
  }
 },
 "nbformat": 4,
 "nbformat_minor": 5
}
