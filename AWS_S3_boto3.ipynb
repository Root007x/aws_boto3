{
 "cells": [
  {
   "cell_type": "markdown",
   "id": "5d0bcd8c",
   "metadata": {},
   "source": [
    "### Create S3 Bucket"
   ]
  },
  {
   "cell_type": "code",
   "execution_count": 8,
   "id": "429df90a",
   "metadata": {},
   "outputs": [],
   "source": [
    "import boto3\n",
    "import os"
   ]
  },
  {
   "cell_type": "code",
   "execution_count": null,
   "id": "e6709a33",
   "metadata": {},
   "outputs": [],
   "source": [
    "s3 = boto3.client(\"s3\")\n",
    "\n",
    "bucket_name = \"\""
   ]
  },
  {
   "cell_type": "code",
   "execution_count": null,
   "id": "ffd09eba",
   "metadata": {},
   "outputs": [],
   "source": [
    "res = s3.list_buckets()\n",
    "res "
   ]
  },
  {
   "cell_type": "code",
   "execution_count": 4,
   "id": "a5a37553",
   "metadata": {},
   "outputs": [],
   "source": [
    "def create_bucket(bucket_name):\n",
    "    s3.create_bucket(Bucket = bucket_name)\n",
    "    print(\"Bucket is created\")"
   ]
  },
  {
   "cell_type": "code",
   "execution_count": 7,
   "id": "bacbd9c6",
   "metadata": {},
   "outputs": [
    {
     "name": "stdout",
     "output_type": "stream",
     "text": [
      "Bucket is created\n"
     ]
    }
   ],
   "source": [
    "create_bucket(bucket_name)"
   ]
  },
  {
   "cell_type": "markdown",
   "id": "525cef6d",
   "metadata": {},
   "source": [
    "### Upload a single file to s3"
   ]
  },
  {
   "cell_type": "code",
   "execution_count": 11,
   "id": "bdb4cf89",
   "metadata": {},
   "outputs": [],
   "source": [
    "def upload_file(file_path, object_name = None):\n",
    "    if object_name is None:\n",
    "        object_name = os.path.basename(file_path)\n",
    "\n",
    "    s3.upload_file(file_path, bucket_name, object_name)\n",
    "    print(\"File Uploaded\")"
   ]
  },
  {
   "cell_type": "code",
   "execution_count": 12,
   "id": "34f60359",
   "metadata": {},
   "outputs": [
    {
     "name": "stdout",
     "output_type": "stream",
     "text": [
      "File Uploaded\n"
     ]
    }
   ],
   "source": [
    "upload_file(\"data/index.html\")"
   ]
  },
  {
   "cell_type": "markdown",
   "id": "c500a213",
   "metadata": {},
   "source": [
    "## List all object in a bucket"
   ]
  },
  {
   "cell_type": "code",
   "execution_count": 13,
   "id": "9343b981",
   "metadata": {},
   "outputs": [],
   "source": [
    "def list_object():\n",
    "    res = s3.list_objects_v2(Bucket = bucket_name)\n",
    "\n",
    "    for obj in res[\"Contents\"]:\n",
    "        print(obj)"
   ]
  },
  {
   "cell_type": "code",
   "execution_count": null,
   "id": "ab8f4a71",
   "metadata": {},
   "outputs": [],
   "source": [
    "list_object()"
   ]
  },
  {
   "cell_type": "markdown",
   "id": "d7913826",
   "metadata": {},
   "source": [
    "### Download s3 file to local system"
   ]
  },
  {
   "cell_type": "code",
   "execution_count": 15,
   "id": "546e462e",
   "metadata": {},
   "outputs": [],
   "source": [
    "def download_file(object_name, file_path):\n",
    "    if not os.path.exists(os.path.dirname(file_path)):\n",
    "        os.makedirs(os.path.dirname(file_path))\n",
    "\n",
    "    s3.download_file(bucket_name, object_name, file_path)\n",
    "    print(\"Donwload Completed\")"
   ]
  },
  {
   "cell_type": "code",
   "execution_count": 16,
   "id": "91dc29f3",
   "metadata": {},
   "outputs": [
    {
     "name": "stdout",
     "output_type": "stream",
     "text": [
      "Donwload Completed\n"
     ]
    }
   ],
   "source": [
    "download_file(\"index.html\", \"data_download/index.html\")"
   ]
  },
  {
   "cell_type": "markdown",
   "id": "46b7296c",
   "metadata": {},
   "source": [
    "### Upload a folder to s3"
   ]
  },
  {
   "cell_type": "code",
   "execution_count": null,
   "id": "8477c246",
   "metadata": {},
   "outputs": [],
   "source": [
    "for root, dirs, file_names in os.walk('data'):\n",
    "    print(root, dirs, file_names)"
   ]
  },
  {
   "cell_type": "code",
   "execution_count": 42,
   "id": "3e0a7c6e",
   "metadata": {},
   "outputs": [],
   "source": [
    "def upload_folder(dirs_path, s3_prefix):\n",
    "    for root, dirs, file_names in os.walk('data'):\n",
    "        for file in file_names:\n",
    "            file_path = os.path.join(root, file).replace(\"\\\\\",\"/\")\n",
    "            relpath = os.path.relpath(file_path, dirs_path)\n",
    "            s3_key = os.path.join(s3_prefix, relpath).replace(\"\\\\\", \"/\")\n",
    "\n",
    "            s3.upload_file(file_path, bucket_name, s3_key)"
   ]
  },
  {
   "cell_type": "code",
   "execution_count": 43,
   "id": "58e27aca",
   "metadata": {},
   "outputs": [],
   "source": [
    "upload_folder(\"data\", \"s3_data\")"
   ]
  },
  {
   "cell_type": "markdown",
   "id": "29ac9eaa",
   "metadata": {},
   "source": [
    "### Download S3 folder to local system"
   ]
  },
  {
   "cell_type": "code",
   "execution_count": null,
   "id": "c1d2de78",
   "metadata": {},
   "outputs": [],
   "source": [
    "list_object()"
   ]
  },
  {
   "cell_type": "code",
   "execution_count": 56,
   "id": "ab8c6bbf",
   "metadata": {},
   "outputs": [],
   "source": [
    "local_path = \"s3_download\" \n",
    "s3_prefix = \"s3_data\"\n",
    "\n",
    "def download_dir(local_path, s3_prefix):\n",
    "    os.makedirs(local_path, exist_ok = True)\n",
    "\n",
    "    paginator = s3.get_paginator(\"list_objects_v2\")\n",
    "\n",
    "    for result in paginator.paginate(Bucket=bucket_name, Prefix = s3_prefix):\n",
    "        if \"Contents\" in result:\n",
    "            for key in result[\"Contents\"]:\n",
    "                s3_key = key['Key']\n",
    "\n",
    "                local_file = os.path.join(local_path, os.path.relpath(s3_key,s3_prefix))\n",
    "\n",
    "                s3.download_file(bucket_name, s3_key, local_file)\n",
    "                print(\"Downlaod Completed\")"
   ]
  },
  {
   "cell_type": "code",
   "execution_count": 57,
   "id": "c3e8aadf",
   "metadata": {},
   "outputs": [
    {
     "name": "stdout",
     "output_type": "stream",
     "text": [
      "Downlaod Completed\n",
      "Downlaod Completed\n",
      "Downlaod Completed\n"
     ]
    }
   ],
   "source": [
    "download_dir(local_path, s3_prefix)"
   ]
  },
  {
   "cell_type": "markdown",
   "id": "f094ecf3",
   "metadata": {},
   "source": [
    "### Delete All files in an s3 bucket"
   ]
  },
  {
   "cell_type": "code",
   "execution_count": 58,
   "id": "bb2c6c7d",
   "metadata": {},
   "outputs": [],
   "source": [
    "def delete_obj():\n",
    "    res = s3.list_objects_v2(Bucket=bucket_name)\n",
    "\n",
    "    if \"Contents\" in res:\n",
    "        for obj in res[\"Contents\"]:\n",
    "            s3.delete_object(Bucket=bucket_name, Key=obj[\"Key\"])\n",
    "            print(\"Deleting\")\n",
    "\n"
   ]
  },
  {
   "cell_type": "code",
   "execution_count": 59,
   "id": "1ac78ba4",
   "metadata": {},
   "outputs": [
    {
     "name": "stdout",
     "output_type": "stream",
     "text": [
      "Deleting\n",
      "Deleting\n",
      "Deleting\n",
      "Deleting\n"
     ]
    }
   ],
   "source": [
    "delete_obj()"
   ]
  },
  {
   "cell_type": "code",
   "execution_count": null,
   "id": "626bfa06",
   "metadata": {},
   "outputs": [],
   "source": [
    "# delete bucket\n",
    "s3.delete_bucket(Bucket=bucket_name)"
   ]
  },
  {
   "cell_type": "code",
   "execution_count": null,
   "id": "4137305b",
   "metadata": {},
   "outputs": [],
   "source": []
  }
 ],
 "metadata": {
  "kernelspec": {
   "display_name": "Python 3",
   "language": "python",
   "name": "python3"
  },
  "language_info": {
   "codemirror_mode": {
    "name": "ipython",
    "version": 3
   },
   "file_extension": ".py",
   "mimetype": "text/x-python",
   "name": "python",
   "nbconvert_exporter": "python",
   "pygments_lexer": "ipython3",
   "version": "3.10.18"
  }
 },
 "nbformat": 4,
 "nbformat_minor": 5
}
